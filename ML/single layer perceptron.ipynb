{
 "cells": [
  {
   "cell_type": "markdown",
   "id": "51c8de6c",
   "metadata": {},
   "source": [
    "S Harisankar | Date: 04-11-22"
   ]
  },
  {
   "cell_type": "markdown",
   "id": "e5fd7e20",
   "metadata": {},
   "source": [
    "## importing and training"
   ]
  },
  {
   "cell_type": "code",
   "execution_count": 1,
   "id": "ce7200e2",
   "metadata": {},
   "outputs": [
    {
     "data": {
      "text/plain": [
       "Perceptron()"
      ]
     },
     "execution_count": 1,
     "metadata": {},
     "output_type": "execute_result"
    }
   ],
   "source": [
    "from sklearn.linear_model import Perceptron\n",
    "\n",
    "#training data for AND gate\n",
    "x_train=[[0,0],[0,1],[1,0],[1,1]]\n",
    "y_train=[0,0,0,1]\n",
    "\n",
    "#model creation\n",
    "classifier=Perceptron(tol=1e-3,random_state=0)\n",
    "classifier.fit(x_train,y_train)"
   ]
  },
  {
   "cell_type": "markdown",
   "id": "d653cd2c",
   "metadata": {},
   "source": [
    "## prediction"
   ]
  },
  {
   "cell_type": "code",
   "execution_count": 4,
   "id": "82c54a8b",
   "metadata": {},
   "outputs": [
    {
     "name": "stdout",
     "output_type": "stream",
     "text": [
      "[0 0 0 1]\n",
      "[[2. 2.]] [-2.]\n"
     ]
    }
   ],
   "source": [
    "y_pred=classifier.predict(x_train)\n",
    "print(y_pred)\n",
    "print(classifier.coef_,classifier.intercept_)"
   ]
  }
 ],
 "metadata": {
  "kernelspec": {
   "display_name": "Python 3 (ipykernel)",
   "language": "python",
   "name": "python3"
  },
  "language_info": {
   "codemirror_mode": {
    "name": "ipython",
    "version": 3
   },
   "file_extension": ".py",
   "mimetype": "text/x-python",
   "name": "python",
   "nbconvert_exporter": "python",
   "pygments_lexer": "ipython3",
   "version": "3.9.13"
  }
 },
 "nbformat": 4,
 "nbformat_minor": 5
}
