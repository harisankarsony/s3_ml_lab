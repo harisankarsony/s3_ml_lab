{
 "cells": [
  {
   "cell_type": "markdown",
   "id": "e58c1c32",
   "metadata": {},
   "source": [
    "S Harisankar | Date: 14-11-22"
   ]
  },
  {
   "cell_type": "markdown",
   "id": "2500ecb2",
   "metadata": {},
   "source": [
    "## Import stuff"
   ]
  },
  {
   "cell_type": "code",
   "execution_count": 16,
   "id": "094705b1",
   "metadata": {},
   "outputs": [],
   "source": [
    "import pandas as pd\n",
    "import numpy as np\n",
    "import matplotlib.pyplot as plt\n",
    "import sklearn\n",
    "from sklearn.neural_network import MLPClassifier"
   ]
  },
  {
   "cell_type": "code",
   "execution_count": 17,
   "id": "85c338da",
   "metadata": {},
   "outputs": [
    {
     "name": "stdout",
     "output_type": "stream",
     "text": [
      "(768, 9)\n"
     ]
    },
    {
     "data": {
      "text/html": [
       "<div>\n",
       "<style scoped>\n",
       "    .dataframe tbody tr th:only-of-type {\n",
       "        vertical-align: middle;\n",
       "    }\n",
       "\n",
       "    .dataframe tbody tr th {\n",
       "        vertical-align: top;\n",
       "    }\n",
       "\n",
       "    .dataframe thead th {\n",
       "        text-align: right;\n",
       "    }\n",
       "</style>\n",
       "<table border=\"1\" class=\"dataframe\">\n",
       "  <thead>\n",
       "    <tr style=\"text-align: right;\">\n",
       "      <th></th>\n",
       "      <th>count</th>\n",
       "      <th>mean</th>\n",
       "      <th>std</th>\n",
       "      <th>min</th>\n",
       "      <th>25%</th>\n",
       "      <th>50%</th>\n",
       "      <th>75%</th>\n",
       "      <th>max</th>\n",
       "    </tr>\n",
       "  </thead>\n",
       "  <tbody>\n",
       "    <tr>\n",
       "      <th>Pregnancies</th>\n",
       "      <td>768.0</td>\n",
       "      <td>3.845052</td>\n",
       "      <td>3.369578</td>\n",
       "      <td>0.000</td>\n",
       "      <td>1.00000</td>\n",
       "      <td>3.0000</td>\n",
       "      <td>6.00000</td>\n",
       "      <td>17.00</td>\n",
       "    </tr>\n",
       "    <tr>\n",
       "      <th>Glucose</th>\n",
       "      <td>768.0</td>\n",
       "      <td>120.894531</td>\n",
       "      <td>31.972618</td>\n",
       "      <td>0.000</td>\n",
       "      <td>99.00000</td>\n",
       "      <td>117.0000</td>\n",
       "      <td>140.25000</td>\n",
       "      <td>199.00</td>\n",
       "    </tr>\n",
       "    <tr>\n",
       "      <th>BloodPressure</th>\n",
       "      <td>768.0</td>\n",
       "      <td>69.105469</td>\n",
       "      <td>19.355807</td>\n",
       "      <td>0.000</td>\n",
       "      <td>62.00000</td>\n",
       "      <td>72.0000</td>\n",
       "      <td>80.00000</td>\n",
       "      <td>122.00</td>\n",
       "    </tr>\n",
       "    <tr>\n",
       "      <th>SkinThickness</th>\n",
       "      <td>768.0</td>\n",
       "      <td>20.536458</td>\n",
       "      <td>15.952218</td>\n",
       "      <td>0.000</td>\n",
       "      <td>0.00000</td>\n",
       "      <td>23.0000</td>\n",
       "      <td>32.00000</td>\n",
       "      <td>99.00</td>\n",
       "    </tr>\n",
       "    <tr>\n",
       "      <th>Insulin</th>\n",
       "      <td>768.0</td>\n",
       "      <td>79.799479</td>\n",
       "      <td>115.244002</td>\n",
       "      <td>0.000</td>\n",
       "      <td>0.00000</td>\n",
       "      <td>30.5000</td>\n",
       "      <td>127.25000</td>\n",
       "      <td>846.00</td>\n",
       "    </tr>\n",
       "    <tr>\n",
       "      <th>BMI</th>\n",
       "      <td>768.0</td>\n",
       "      <td>31.992578</td>\n",
       "      <td>7.884160</td>\n",
       "      <td>0.000</td>\n",
       "      <td>27.30000</td>\n",
       "      <td>32.0000</td>\n",
       "      <td>36.60000</td>\n",
       "      <td>67.10</td>\n",
       "    </tr>\n",
       "    <tr>\n",
       "      <th>DiabetesPedigreeFunction</th>\n",
       "      <td>768.0</td>\n",
       "      <td>0.471876</td>\n",
       "      <td>0.331329</td>\n",
       "      <td>0.078</td>\n",
       "      <td>0.24375</td>\n",
       "      <td>0.3725</td>\n",
       "      <td>0.62625</td>\n",
       "      <td>2.42</td>\n",
       "    </tr>\n",
       "    <tr>\n",
       "      <th>Age</th>\n",
       "      <td>768.0</td>\n",
       "      <td>33.240885</td>\n",
       "      <td>11.760232</td>\n",
       "      <td>21.000</td>\n",
       "      <td>24.00000</td>\n",
       "      <td>29.0000</td>\n",
       "      <td>41.00000</td>\n",
       "      <td>81.00</td>\n",
       "    </tr>\n",
       "    <tr>\n",
       "      <th>Outcome</th>\n",
       "      <td>768.0</td>\n",
       "      <td>0.348958</td>\n",
       "      <td>0.476951</td>\n",
       "      <td>0.000</td>\n",
       "      <td>0.00000</td>\n",
       "      <td>0.0000</td>\n",
       "      <td>1.00000</td>\n",
       "      <td>1.00</td>\n",
       "    </tr>\n",
       "  </tbody>\n",
       "</table>\n",
       "</div>"
      ],
      "text/plain": [
       "                          count        mean         std     min       25%  \\\n",
       "Pregnancies               768.0    3.845052    3.369578   0.000   1.00000   \n",
       "Glucose                   768.0  120.894531   31.972618   0.000  99.00000   \n",
       "BloodPressure             768.0   69.105469   19.355807   0.000  62.00000   \n",
       "SkinThickness             768.0   20.536458   15.952218   0.000   0.00000   \n",
       "Insulin                   768.0   79.799479  115.244002   0.000   0.00000   \n",
       "BMI                       768.0   31.992578    7.884160   0.000  27.30000   \n",
       "DiabetesPedigreeFunction  768.0    0.471876    0.331329   0.078   0.24375   \n",
       "Age                       768.0   33.240885   11.760232  21.000  24.00000   \n",
       "Outcome                   768.0    0.348958    0.476951   0.000   0.00000   \n",
       "\n",
       "                               50%        75%     max  \n",
       "Pregnancies                 3.0000    6.00000   17.00  \n",
       "Glucose                   117.0000  140.25000  199.00  \n",
       "BloodPressure              72.0000   80.00000  122.00  \n",
       "SkinThickness              23.0000   32.00000   99.00  \n",
       "Insulin                    30.5000  127.25000  846.00  \n",
       "BMI                        32.0000   36.60000   67.10  \n",
       "DiabetesPedigreeFunction    0.3725    0.62625    2.42  \n",
       "Age                        29.0000   41.00000   81.00  \n",
       "Outcome                     0.0000    1.00000    1.00  "
      ]
     },
     "execution_count": 17,
     "metadata": {},
     "output_type": "execute_result"
    }
   ],
   "source": [
    "df = pd.read_csv('./datasets/diabetes.csv')\n",
    "print(df.shape)\n",
    "df.describe().transpose()"
   ]
  },
  {
   "cell_type": "code",
   "execution_count": 18,
   "id": "4af730b3",
   "metadata": {},
   "outputs": [
    {
     "data": {
      "text/plain": [
       "0    500\n",
       "1    268\n",
       "Name: Outcome, dtype: int64"
      ]
     },
     "execution_count": 18,
     "metadata": {},
     "output_type": "execute_result"
    }
   ],
   "source": [
    "df.Outcome.value_counts()"
   ]
  },
  {
   "cell_type": "markdown",
   "id": "c368f03a",
   "metadata": {},
   "source": [
    "## preprocessing"
   ]
  },
  {
   "cell_type": "code",
   "execution_count": 19,
   "id": "93121552",
   "metadata": {},
   "outputs": [
    {
     "name": "stdout",
     "output_type": "stream",
     "text": [
      "0      1\n",
      "1      0\n",
      "2      1\n",
      "3      0\n",
      "4      1\n",
      "      ..\n",
      "763    0\n",
      "764    0\n",
      "765    0\n",
      "766    1\n",
      "767    0\n",
      "Name: Outcome, Length: 768, dtype: int64\n",
      "     Pregnancies  Glucose  BloodPressure  SkinThickness  Insulin   BMI  \\\n",
      "0              6      148             72             35        0  33.6   \n",
      "1              1       85             66             29        0  26.6   \n",
      "2              8      183             64              0        0  23.3   \n",
      "3              1       89             66             23       94  28.1   \n",
      "4              0      137             40             35      168  43.1   \n",
      "..           ...      ...            ...            ...      ...   ...   \n",
      "763           10      101             76             48      180  32.9   \n",
      "764            2      122             70             27        0  36.8   \n",
      "765            5      121             72             23      112  26.2   \n",
      "766            1      126             60              0        0  30.1   \n",
      "767            1       93             70             31        0  30.4   \n",
      "\n",
      "     DiabetesPedigreeFunction  Age  \n",
      "0                       0.627   50  \n",
      "1                       0.351   31  \n",
      "2                       0.672   32  \n",
      "3                       0.167   21  \n",
      "4                       2.288   33  \n",
      "..                        ...  ...  \n",
      "763                     0.171   63  \n",
      "764                     0.340   27  \n",
      "765                     0.245   30  \n",
      "766                     0.349   47  \n",
      "767                     0.315   23  \n",
      "\n",
      "[768 rows x 8 columns]\n"
     ]
    }
   ],
   "source": [
    "#Extracting Independent and dependent Variable\n",
    "\n",
    "y=df['Outcome']\n",
    "print(y)\n",
    "df=df.drop(['Outcome'],axis=1)\n",
    "x= df\n",
    "print(x)"
   ]
  },
  {
   "cell_type": "code",
   "execution_count": 20,
   "id": "56218350",
   "metadata": {},
   "outputs": [
    {
     "name": "stdout",
     "output_type": "stream",
     "text": [
      "(537, 8)\n",
      "(231, 8)\n"
     ]
    }
   ],
   "source": [
    "#splitting into training and test dataset\n",
    "\n",
    "from sklearn.model_selection import train_test_split\n",
    "x_train, x_test, y_train, y_test = train_test_split(x, y, test_size = 0.3, random_state = 0)\n",
    "print(x_train.shape)\n",
    "print(x_test.shape)"
   ]
  },
  {
   "cell_type": "code",
   "execution_count": 21,
   "id": "cc57529c",
   "metadata": {},
   "outputs": [
    {
     "name": "stdout",
     "output_type": "stream",
     "text": [
      "[[0.         0.76262626 0.73770492 ... 0.62742176 0.12285959 0.        ]\n",
      " [0.05882353 0.41919192 0.55737705 ... 0.27123696 0.23116438 0.1       ]\n",
      " [0.11764706 0.61616162 0.57377049 ... 0.54843517 0.10958904 0.1       ]\n",
      " ...\n",
      " [0.23529412 0.47474747 0.53278689 ... 0.3681073  0.02739726 0.        ]\n",
      " [0.64705882 0.42929293 0.60655738 ... 0.4485842  0.09246575 0.23333333]\n",
      " [0.29411765 0.68686869 0.67213115 ... 0.         0.2380137  0.8       ]]\n"
     ]
    }
   ],
   "source": [
    "#feature scaling\n",
    "\n",
    "from sklearn.preprocessing import MinMaxScaler\n",
    "st_x = MinMaxScaler()\n",
    "x_train = st_x.fit_transform(x_train)\n",
    "x_test = st_x.fit_transform(x_test)\n",
    "print(x_train)"
   ]
  },
  {
   "cell_type": "markdown",
   "id": "5bdacfca",
   "metadata": {},
   "source": [
    "## instantiate model"
   ]
  },
  {
   "cell_type": "code",
   "execution_count": 34,
   "id": "f35fe51e",
   "metadata": {},
   "outputs": [],
   "source": [
    "#no of hidden layers is 3\n",
    "#no of neurons in each layer is 8\n",
    "\n",
    "classifier = MLPClassifier(hidden_layer_sizes=(8,8,8), activation='relu', solver='adam', max_iter=1000)\n",
    "classifier.fit(x_train,y_train)\n",
    "\n",
    "x_pred = classifier.predict(x_train)\n",
    "y_pred = classifier.predict(x_test)"
   ]
  },
  {
   "cell_type": "code",
   "execution_count": 35,
   "id": "b211d596",
   "metadata": {},
   "outputs": [
    {
     "name": "stdout",
     "output_type": "stream",
     "text": [
      "[1 0 0 1 0 0 1 1 0 0 1 1 0 0 0 0 1 0 0 0 1 1 0 0 0 0 0 0 0 0 0 0 0 0 0 1 1\n",
      " 0 0 0 0 0 0 1 1 0 0 1 1 1 0 0 1 0 0 0 0 1 1 1 1 0 0 1 1 1 1 0 0 0 0 0 0 0\n",
      " 1 0 0 0 0 0 0 0 0 0 0 0 1 0 1 0 0 0 0 0 0 0 1 0 1 1 0 0 0 0 0 1 0 0 0 1 0\n",
      " 1 1 1 1 1 0 0 0 1 0 0 0 0 0 0 0 1 0 0 0 0 0 1 0 1 0 1 1 0 0 0 0 0 1 0 0 0\n",
      " 0 1 0 1 0 0 1 0 0 0 1 1 1 1 0 0 0 1 0 0 0 0 0 0 1 1 0 0 0 0 0 0 1 1 0 1 1\n",
      " 0 1 1 1 0 0 0 0 0 0 1 1 0 0 0 0 0 0 0 1 0 0 0 1 0 1 0 0 0 0 0 1 1 0 0 1 0\n",
      " 1 1 0 0 1 1 0 0 0]\n",
      "[1 0 0 1 0 0 1 1 1 0 1 1 0 0 0 1 1 0 0 1 1 0 1 0 0 1 0 1 0 0 1 1 0 1 0 1 1\n",
      " 0 1 1 0 0 0 1 1 0 0 0 1 0 1 0 1 1 0 0 0 1 0 0 1 1 0 1 1 1 1 0 1 0 0 0 0 1\n",
      " 1 1 0 1 0 0 1 1 1 0 0 0 0 1 1 0 0 0 0 0 1 0 1 1 1 1 1 0 0 0 1 1 0 0 0 1 0\n",
      " 0 1 1 1 1 0 1 0 1 1 0 0 0 0 0 1 1 0 0 1 0 0 1 1 1 0 1 1 0 0 1 0 0 1 0 0 0\n",
      " 0 0 0 1 0 0 1 0 1 0 0 1 1 1 0 0 1 1 0 0 0 0 0 0 0 1 0 0 0 0 0 0 0 1 0 1 1\n",
      " 0 1 0 1 0 0 0 0 0 0 1 1 1 0 1 0 0 0 1 1 0 0 0 1 0 0 0 0 0 0 1 1 1 0 0 0 0\n",
      " 1 1 1 1 1 0 0 0 1]\n"
     ]
    }
   ],
   "source": [
    "print(y_test.values)\n",
    "print(y_pred)"
   ]
  },
  {
   "cell_type": "markdown",
   "id": "63bcd7b3",
   "metadata": {},
   "source": [
    "## confusion matrix"
   ]
  },
  {
   "cell_type": "code",
   "execution_count": 36,
   "id": "94ddf026",
   "metadata": {},
   "outputs": [
    {
     "name": "stdout",
     "output_type": "stream",
     "text": [
      "[[116  41]\n",
      " [ 15  59]]\n"
     ]
    }
   ],
   "source": [
    "from sklearn.metrics import confusion_matrix\n",
    "cm= confusion_matrix(y_test, y_pred)\n",
    "print(cm)"
   ]
  },
  {
   "cell_type": "code",
   "execution_count": 37,
   "id": "d04a88d9",
   "metadata": {},
   "outputs": [
    {
     "name": "stdout",
     "output_type": "stream",
     "text": [
      "[[297  46]\n",
      " [ 65 129]]\n"
     ]
    }
   ],
   "source": [
    "from sklearn.metrics import confusion_matrix\n",
    "cm1= confusion_matrix(y_train, x_pred)\n",
    "print(cm1)"
   ]
  },
  {
   "cell_type": "code",
   "execution_count": 38,
   "id": "b78e4df4",
   "metadata": {},
   "outputs": [
    {
     "data": {
      "text/plain": [
       "<sklearn.metrics._plot.confusion_matrix.ConfusionMatrixDisplay at 0x7f2f5d07b7c0>"
      ]
     },
     "execution_count": 38,
     "metadata": {},
     "output_type": "execute_result"
    },
    {
     "data": {
      "image/png": "[encoded data removed]",
      "text/plain": [
       "<Figure size 432x288 with 2 Axes>"
      ]
     },
     "metadata": {
      "needs_background": "light"
     },
     "output_type": "display_data"
    }
   ],
   "source": [
    "from sklearn.metrics import ConfusionMatrixDisplay\n",
    "disp = ConfusionMatrixDisplay(confusion_matrix=cm,\n",
    "display_labels=classifier.classes_)\n",
    "disp.plot()"
   ]
  },
  {
   "cell_type": "markdown",
   "id": "490e53ec",
   "metadata": {},
   "source": [
    "## testing accuracy"
   ]
  },
  {
   "cell_type": "code",
   "execution_count": 39,
   "id": "6b014632",
   "metadata": {},
   "outputs": [
    {
     "name": "stdout",
     "output_type": "stream",
     "text": [
      "Accuracy score: 0.7575757575757576\n",
      "Precision score: 0.8854961832061069\n",
      "Recall score: 0.7388535031847133\n",
      "F1 score: 0.8055555555555556\n"
     ]
    }
   ],
   "source": [
    "from sklearn.metrics import accuracy_score, precision_score, recall_score, f1_score\n",
    "print('Accuracy score: {}'.format(accuracy_score(y_test, y_pred)))\n",
    "print('Precision score: {}'.format(precision_score(y_test, y_pred,pos_label=0)))\n",
    "print('Recall score: {}'.format(recall_score(y_test, y_pred,pos_label=0)))\n",
    "print('F1 score: {}'.format(f1_score(y_test, y_pred,pos_label=0)))"
   ]
  },
  {
   "cell_type": "code",
   "execution_count": 41,
   "id": "7a9b557f",
   "metadata": {},
   "outputs": [
    {
     "data": {
      "text/plain": [
       "[array([[-1.85452830e-01, -2.70322828e-01,  8.06040489e-01,\n",
       "         -2.69806400e-27,  4.34328411e-05, -4.91674377e-30,\n",
       "          9.10826777e-02, -9.01427436e-06],\n",
       "        [-8.06684673e-01, -6.98237527e-01,  3.72666900e-02,\n",
       "         -1.08873176e-17, -1.38638741e-20, -1.78687489e-45,\n",
       "         -4.61978544e-01, -2.24497231e-08],\n",
       "        [-3.66436783e-02,  3.98240930e-01, -6.81639941e-01,\n",
       "         -3.11146593e-05, -3.53813230e-05, -5.87479976e-05,\n",
       "          3.36399733e-01,  3.80203270e-41],\n",
       "        [ 1.12935825e-02, -6.43010062e-01, -1.75468928e-01,\n",
       "         -7.61263230e-05, -6.96055095e-35,  1.44381215e-15,\n",
       "          9.39433870e-02, -1.04237029e-07],\n",
       "        [-1.29980211e-01,  2.75761851e-01, -1.43436798e-01,\n",
       "          1.75168430e-06, -6.27930760e-37, -7.59568910e-43,\n",
       "          1.94120183e-01,  9.09690197e-13],\n",
       "        [-3.91829811e-01, -3.12400261e-01, -7.10827837e-01,\n",
       "          1.48889872e-42,  7.61459482e-40, -2.96377120e-17,\n",
       "         -5.86135729e-01,  2.63682370e-10],\n",
       "        [-1.50513520e-01,  5.67966210e-03, -1.19582606e+00,\n",
       "         -5.70587653e-48,  9.19489325e-07,  1.58634659e-05,\n",
       "         -4.28758799e-01,  1.67224323e-10],\n",
       "        [ 5.00453022e-01, -1.20218964e+00, -4.95882466e-01,\n",
       "          2.67095034e-33, -1.17211706e-08,  8.43090753e-16,\n",
       "         -5.63923952e-01,  2.08434039e-08]]),\n",
       " array([[-2.63430102e-18,  1.00538251e+00, -1.39795419e-10,\n",
       "          5.73366625e-12, -4.92919129e-18, -4.05782815e-01,\n",
       "          6.33249715e-01, -1.75792052e-14],\n",
       "        [ 6.91491816e-38,  1.07173734e+00,  1.44641726e-42,\n",
       "          2.23833010e-15, -1.15128254e-17, -1.28417492e+00,\n",
       "          9.74247133e-01, -7.48830477e-32],\n",
       "        [ 3.49327143e-05,  1.80608515e+00,  8.45207418e-46,\n",
       "          2.48096420e-22,  3.19546605e-42, -6.89526748e-01,\n",
       "          1.07744874e+00, -2.53071134e-04],\n",
       "        [ 6.36194101e-07, -1.77442389e-04,  1.55584502e-37,\n",
       "         -1.86941119e-10,  2.02091111e-05, -7.43215104e-48,\n",
       "         -1.08194983e-06, -1.59471700e-10],\n",
       "        [ 5.58902437e-44,  1.49706660e-07, -1.09636072e-07,\n",
       "         -1.45739916e-12, -1.79310828e-17,  2.32207787e-05,\n",
       "          9.71411360e-05, -2.40980783e-15],\n",
       "        [-3.96357025e-06,  1.45959576e-10, -8.09663696e-07,\n",
       "         -5.24479228e-06,  2.81735994e-05,  1.62544057e-04,\n",
       "         -8.37910642e-06,  2.40401696e-05],\n",
       "        [-2.00800207e-04,  1.26244338e+00, -1.26815213e-04,\n",
       "         -1.50683142e-06, -3.09332942e-05, -8.46679679e-01,\n",
       "          7.19882387e-01, -1.06220259e-06],\n",
       "        [ 8.35829499e-31,  3.42823747e-12, -3.41283425e-06,\n",
       "          2.33248514e-05, -2.03599623e-06, -3.84348802e-05,\n",
       "         -4.18383280e-07, -8.27161456e-06]]),\n",
       " array([[ 1.72199591e-04, -4.67263703e-10,  3.49263520e-05,\n",
       "         -2.42508178e-14, -1.29804840e-10, -9.03213436e-05,\n",
       "         -1.05811282e-10, -7.47359365e-14],\n",
       "        [ 1.55148472e+00, -5.04712274e-27,  9.24100805e-01,\n",
       "         -1.48986237e+00,  2.77376902e-45, -6.66405733e-05,\n",
       "          6.72532985e-01,  2.25281815e-12],\n",
       "        [-3.10053018e-28, -4.14084177e-06, -1.22719001e-04,\n",
       "          3.15467789e-06, -6.68836154e-24,  2.09032674e-07,\n",
       "          8.91352205e-09,  6.81476246e-39],\n",
       "        [ 6.85351158e-45,  8.90511970e-33,  1.90019741e-04,\n",
       "          2.17280064e-18,  4.44391802e-05, -3.76406542e-07,\n",
       "         -7.40635062e-09,  7.60967552e-09],\n",
       "        [ 1.50115940e-07, -6.36084281e-05, -7.07276507e-05,\n",
       "          1.06236261e-08,  3.47292738e-39,  6.18666039e-48,\n",
       "          1.66337569e-12,  5.90960973e-12],\n",
       "        [-6.59149113e-01, -2.13211043e-08, -1.01571142e+00,\n",
       "          1.42075680e+00,  4.08674986e-43,  5.37912316e-11,\n",
       "         -4.12269857e-01,  3.22124241e-47],\n",
       "        [ 8.22803464e-01, -2.23271808e-04,  6.60813199e-01,\n",
       "          1.80423609e-01,  2.08141468e-23, -2.13272451e-40,\n",
       "          7.07183724e-01, -4.97964172e-05],\n",
       "        [ 7.95434224e-36, -4.14287405e-35,  2.91535934e-06,\n",
       "          1.10587068e-09, -5.34841442e-05, -1.23437963e-05,\n",
       "          9.46542663e-08,  3.30111143e-06]]),\n",
       " array([[-5.38369709e-01],\n",
       "        [ 2.13357957e-03],\n",
       "        [-9.05237847e-01],\n",
       "        [ 6.55432903e-01],\n",
       "        [ 2.10564832e-05],\n",
       "        [-7.17171224e-12],\n",
       "        [-1.99094934e-01],\n",
       "        [-8.31155658e-20]])]"
      ]
     },
     "execution_count": 41,
     "metadata": {},
     "output_type": "execute_result"
    }
   ],
   "source": [
    "classifier.coefs_"
   ]
  },
  {
   "cell_type": "code",
   "execution_count": 42,
   "id": "efb06e20",
   "metadata": {},
   "outputs": [
    {
     "data": {
      "text/plain": [
       "[array([ 1.07623571,  0.76562062,  0.26088282, -0.6011228 , -0.57650866,\n",
       "        -0.40151669,  0.67470026, -0.59474147]),\n",
       " array([-0.28602168, -0.09551671, -0.29096436, -0.55067662, -0.35729907,\n",
       "         0.80335158,  0.1266103 , -0.16963774]),\n",
       " array([ 0.17852918, -0.56020292,  0.58817512,  0.66823711, -0.07619526,\n",
       "        -0.51297773,  0.07935468, -0.19191457]),\n",
       " array([0.8070265])]"
      ]
     },
     "execution_count": 42,
     "metadata": {},
     "output_type": "execute_result"
    }
   ],
   "source": [
    "classifier.intercepts_"
   ]
  }
 ],
 "metadata": {
  "kernelspec": {
   "display_name": "Python 3 (ipykernel)",
   "language": "python",
   "name": "python3"
  },
  "language_info": {
   "codemirror_mode": {
    "name": "ipython",
    "version": 3
   },
   "file_extension": ".py",
   "mimetype": "text/x-python",
   "name": "python",
   "nbconvert_exporter": "python",
   "pygments_lexer": "ipython3",
   "version": "3.9.13"
  }
 },
 "nbformat": 4,
 "nbformat_minor": 5
}
