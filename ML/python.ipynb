{
 "cells": [
  {
   "cell_type": "code",
   "execution_count": 6,
   "id": "94a31331",
   "metadata": {},
   "outputs": [
    {
     "name": "stdout",
     "output_type": "stream",
     "text": [
      "Enter a number: 9\n",
      "9 is not a prime number\n"
     ]
    }
   ],
   "source": [
    "#q1\n",
    "num = int(input(\"Enter a number: \"))\n",
    "flag=False\n",
    "for i in range(2,num):\n",
    "    if(num % i) == 0:\n",
    "        flag=True\n",
    "        break\n",
    "if(flag == True):\n",
    "    print(num,\"is not a prime number\")\n",
    "       \n",
    "else:\n",
    "    print(num,\"is prime number\")"
   ]
  },
  {
   "cell_type": "code",
   "execution_count": 2,
   "id": "93dc7a95",
   "metadata": {},
   "outputs": [
    {
     "name": "stdout",
     "output_type": "stream",
     "text": [
      "12234\n",
      "['1', '2', '2', '3', '4']\n",
      "Enter the element you wish to delete : 2\n",
      "['1', '3', '4']\n"
     ]
    }
   ],
   "source": [
    "#q2\n",
    "l=list(input())\n",
    "print(l)\n",
    "r = input(\"Enter the element you wish to delete : \")\n",
    "res = [i for i in l if i != r]\n",
    "print(res)\n"
   ]
  },
  {
   "cell_type": "code",
   "execution_count": 3,
   "id": "1db28dfb",
   "metadata": {},
   "outputs": [
    {
     "name": "stdout",
     "output_type": "stream",
     "text": [
      "enter a line of text : hi hi hi hello\n",
      "enter the word to count : hi\n",
      "3\n"
     ]
    }
   ],
   "source": [
    "#q3\n",
    "str=input(\"enter a line of text : \")\n",
    "w=input(\"enter the word to count : \")\n",
    "c=str.count(w)\n",
    "print(c)"
   ]
  },
  {
   "cell_type": "code",
   "execution_count": null,
   "id": "912db860",
   "metadata": {},
   "outputs": [],
   "source": []
  }
 ],
 "metadata": {
  "kernelspec": {
   "display_name": "Python 3 (ipykernel)",
   "language": "python",
   "name": "python3"
  },
  "language_info": {
   "codemirror_mode": {
    "name": "ipython",
    "version": 3
   },
   "file_extension": ".py",
   "mimetype": "text/x-python",
   "name": "python",
   "nbconvert_exporter": "python",
   "pygments_lexer": "ipython3",
   "version": "3.9.12"
  }
 },
 "nbformat": 4,
 "nbformat_minor": 5
}
