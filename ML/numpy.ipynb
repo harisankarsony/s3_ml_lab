{
 "cells": [
  {
   "cell_type": "code",
   "execution_count": 2,
   "id": "c7c6f0c9",
   "metadata": {},
   "outputs": [
    {
     "name": "stdout",
     "output_type": "stream",
     "text": [
      "[0 1 2 3 4]\n"
     ]
    }
   ],
   "source": [
    "import numpy as np\n",
    "a=np.arange(5)\n",
    "print(a)"
   ]
  },
  {
   "cell_type": "code",
   "execution_count": 8,
   "id": "a43b5aad",
   "metadata": {},
   "outputs": [
    {
     "name": "stdout",
     "output_type": "stream",
     "text": [
      "[0. 0. 0. 0. 0.]\n"
     ]
    }
   ],
   "source": [
    "import numpy as np\n",
    "a=np.zeros(5)\n",
    "print(a)"
   ]
  },
  {
   "cell_type": "code",
   "execution_count": 5,
   "id": "955eebf4",
   "metadata": {},
   "outputs": [
    {
     "name": "stdout",
     "output_type": "stream",
     "text": [
      "[[1 2 3]\n",
      " [4 5 6]]\n"
     ]
    },
    {
     "data": {
      "text/plain": [
       "(2, 3)"
      ]
     },
     "execution_count": 5,
     "metadata": {},
     "output_type": "execute_result"
    }
   ],
   "source": [
    "#2D Array\n",
    "import numpy as np\n",
    "a=np.array([[1,2,3],[4,5,6]])\n",
    "print(a)\n",
    "a.shape"
   ]
  },
  {
   "cell_type": "code",
   "execution_count": 6,
   "id": "989e72a7",
   "metadata": {},
   "outputs": [
    {
     "name": "stdout",
     "output_type": "stream",
     "text": [
      "1.21.5\n"
     ]
    }
   ],
   "source": [
    "#version\n",
    "import numpy as np\n",
    "print(np.__version__)"
   ]
  },
  {
   "cell_type": "code",
   "execution_count": 9,
   "id": "d2b52796",
   "metadata": {},
   "outputs": [
    {
     "name": "stdout",
     "output_type": "stream",
     "text": [
      "[[ 1  2  3]\n",
      " [ 4  5  6]\n",
      " [ 7  8  9]\n",
      " [10 11 12]]\n"
     ]
    }
   ],
   "source": [
    "#converting 1d array to 2d array\n",
    "import numpy as np\n",
    "arr=np.array([1,2,3,4,5,6,7,8,9,10,11,12])\n",
    "newarr=arr.reshape(4,3)\n",
    "print(newarr)"
   ]
  },
  {
   "cell_type": "code",
   "execution_count": 25,
   "id": "1215aeb5",
   "metadata": {},
   "outputs": [
    {
     "name": "stdout",
     "output_type": "stream",
     "text": [
      "[[[ 1  2  3  4  5  6]]\n",
      "\n",
      " [[ 7  8  9 10 11 12]]]\n",
      "3\n"
     ]
    }
   ],
   "source": [
    "#converting 1d array to 3d array\n",
    "arr=np.array([1,2,3,4,5,6,7,8,9,10,11,12])\n",
    "newarr=arr.reshape(2,1,6)\n",
    "print(newarr)\n",
    "print(newarr.ndim)#no of dimensions\n"
   ]
  },
  {
   "cell_type": "code",
   "execution_count": 20,
   "id": "95c15195",
   "metadata": {},
   "outputs": [
    {
     "name": "stdout",
     "output_type": "stream",
     "text": [
      "[1 1 1 1 1]\n"
     ]
    }
   ],
   "source": [
    "#onesarray\n",
    "a=np.ones(5,dtype='int64')\n",
    "print(a)"
   ]
  },
  {
   "cell_type": "code",
   "execution_count": 24,
   "id": "44bb2c45",
   "metadata": {},
   "outputs": [
    {
     "name": "stdout",
     "output_type": "stream",
     "text": [
      "[[ 1  2  3  4  5]\n",
      " [ 6  7  8  9 10]\n",
      " [ 0  0  0  0  0]\n",
      " [ 0  0  0  0  0]]\n"
     ]
    }
   ],
   "source": [
    "x=np.array([1,2,3,4,5,6,7,8,9,10])\n",
    "x.resize(4,5)#resize\n",
    "print(x)"
   ]
  },
  {
   "cell_type": "code",
   "execution_count": 27,
   "id": "258f6a1d",
   "metadata": {},
   "outputs": [
    {
     "name": "stdout",
     "output_type": "stream",
     "text": [
      "[5 6]\n",
      "[2 4]\n"
     ]
    }
   ],
   "source": [
    "#negative slicing\n",
    "x=np.array([1,2,3,4,5,6,7])\n",
    "print(x[-3:-1])\n",
    "print(x[1:5:2])"
   ]
  },
  {
   "cell_type": "code",
   "execution_count": 59,
   "id": "df3a0c5a",
   "metadata": {},
   "outputs": [
    {
     "name": "stdout",
     "output_type": "stream",
     "text": [
      "original array :  [ 1  2  3  4  5  6  7  8  9 10 11 12 13 14]\n",
      "size :  14\n",
      "array after updating 8th element :  [ 1  2  3  4  5  6  7  8 25 10 11 12 13 14]\n",
      "array in reverse order :  [14 13 12 11 10 25  8  7  6  5  4  3  2  1]\n",
      "reshaped array : \n",
      "[[ 1  2]\n",
      " [ 3  4]\n",
      " [ 5  6]\n",
      " [ 7  8]\n",
      " [25 10]\n",
      " [11 12]\n",
      " [13 14]]\n"
     ]
    }
   ],
   "source": [
    "#question4\n",
    "x=np.array([1,2,3,4,5,6,7,8,9,10,11,12,13,14])\n",
    "print(\"original array : \",x)\n",
    "print(\"size : \",x.size)\n",
    "x[8]=25\n",
    "print(\"array after updating 8th element : \",x)\n",
    "print(\"array in reverse order : \",x[::-1])\n",
    "x1=x.reshape(7,2)\n",
    "print(\"reshaped array : \")\n",
    "print(x1)"
   ]
  },
  {
   "cell_type": "code",
   "execution_count": 35,
   "id": "17b25a8d",
   "metadata": {},
   "outputs": [
    {
     "name": "stdout",
     "output_type": "stream",
     "text": [
      "The matrix :  [[12 13 14 15]\n",
      " [16 17 18 19]\n",
      " [20 21 22 23]\n",
      " [24 25 26 27]\n",
      " [28 29 30 31]]\n",
      "shape :  (5, 4)\n",
      "type :  <class 'numpy.ndarray'>\n",
      "data type :  int64\n"
     ]
    }
   ],
   "source": [
    "#question5\n",
    "x=np.arange(12,32)\n",
    "x1=x.reshape(5,4)\n",
    "print(\"The matrix : \",x1)\n",
    "print(\"shape : \",x1.shape)\n",
    "print(\"type : \",type(x))\n",
    "print(\"data type : \",x.dtype)"
   ]
  },
  {
   "cell_type": "code",
   "execution_count": 36,
   "id": "f6176d1f",
   "metadata": {},
   "outputs": [
    {
     "name": "stdout",
     "output_type": "stream",
     "text": [
      "Checkboard pattern:\n",
      "\n",
      "[[0 1 0 1 0 1 0 1]\n",
      " [1 0 1 0 1 0 1 0]\n",
      " [0 1 0 1 0 1 0 1]\n",
      " [1 0 1 0 1 0 1 0]\n",
      " [0 1 0 1 0 1 0 1]\n",
      " [1 0 1 0 1 0 1 0]\n",
      " [0 1 0 1 0 1 0 1]\n",
      " [1 0 1 0 1 0 1 0]]\n"
     ]
    }
   ],
   "source": [
    "#q6\n",
    "\n",
    "import numpy as np\n",
    "\n",
    "arr=np.zeros((8,8),dtype=int)\n",
    "arr[1::2,::2]=1\n",
    "arr[::2,1::2]=1\n",
    "\n",
    "print(\"Checkboard pattern:\\n\")\n",
    "print(arr)"
   ]
  },
  {
   "cell_type": "code",
   "execution_count": 37,
   "id": "3c5ffcd1",
   "metadata": {},
   "outputs": [
    {
     "name": "stdout",
     "output_type": "stream",
     "text": [
      "array 1:  [1 2 3 4]\n",
      "array 2:  [1 4]\n",
      "[ True False False  True]\n"
     ]
    }
   ],
   "source": [
    "#q7\n",
    "\n",
    "import numpy as np\n",
    "\n",
    "arr1=np.array([1,2,3,4])\n",
    "arr2=np.array([1,4])\n",
    "print(\"array 1: \", arr1)\n",
    "print(\"array 2: \", arr2)\n",
    "\n",
    "arr3=np.in1d(arr1,arr2)\n",
    "print(arr3)"
   ]
  },
  {
   "cell_type": "code",
   "execution_count": 38,
   "id": "ba7d1246",
   "metadata": {},
   "outputs": [
    {
     "name": "stdout",
     "output_type": "stream",
     "text": [
      "array 1:  [1 2 3 4]\n",
      "array 2:  [5 2 3 7]\n",
      "common elements:  [2 3]\n",
      "union:  [1 2 3 4 5 7]\n"
     ]
    }
   ],
   "source": [
    "#q8\n",
    "\n",
    "import numpy as np\n",
    "\n",
    "arr1=np.array([1,2,3,4])\n",
    "arr2=np.array([5,2,3,7])\n",
    "print(\"array 1: \", arr1)\n",
    "print(\"array 2: \", arr2)\n",
    "\n",
    "arr3=np.intersect1d(arr1,arr2)\n",
    "arr4=np.union1d(arr1,arr2)\n",
    "print(\"common elements: \", arr3)\n",
    "print(\"union: \", arr4)"
   ]
  },
  {
   "cell_type": "code",
   "execution_count": 39,
   "id": "6363fe32",
   "metadata": {},
   "outputs": [
    {
     "name": "stdout",
     "output_type": "stream",
     "text": [
      "unique elements are:  [1 2 3 4 5]\n"
     ]
    }
   ],
   "source": [
    "#q9\n",
    "\n",
    "import numpy as np\n",
    "\n",
    "arr=np.array([1,2,2,3,4,4,5])\n",
    "\n",
    "arr2=np.unique(arr)\n",
    "print(\"unique elements are: \",arr2)"
   ]
  },
  {
   "cell_type": "code",
   "execution_count": 40,
   "id": "18f0915f",
   "metadata": {},
   "outputs": [
    {
     "name": "stdout",
     "output_type": "stream",
     "text": [
      "[1 2 3 4]\n",
      "type: <class 'numpy.ndarray'>\n",
      "[1, 2, 3, 4]\n",
      "type: <class 'list'>\n"
     ]
    }
   ],
   "source": [
    "#q10\n",
    "\n",
    "import numpy as np\n",
    "\n",
    "arr=np.array([1,2,3,4])\n",
    "print(arr)\n",
    "print(\"type:\",type(arr))\n",
    "\n",
    "ls=arr.tolist()\n",
    "print(ls)\n",
    "print(\"type:\",type(ls))"
   ]
  },
  {
   "cell_type": "code",
   "execution_count": 58,
   "id": "d437335a",
   "metadata": {},
   "outputs": [
    {
     "name": "stdout",
     "output_type": "stream",
     "text": [
      "Checkboard pattern:\n",
      "\n",
      "[[1 1 0 0 1 1 0 0]\n",
      " [0 0 1 1 0 0 1 1]\n",
      " [1 1 0 0 1 1 0 0]\n",
      " [0 0 1 1 0 0 1 1]\n",
      " [1 1 0 0 1 1 0 0]\n",
      " [0 0 1 1 0 0 1 1]\n",
      " [1 1 0 0 1 1 0 0]\n",
      " [0 0 1 1 0 0 1 1]]\n"
     ]
    }
   ],
   "source": [
    "#pattern 1\n",
    "\n",
    "import numpy as np\n",
    "\n",
    "arr=np.zeros((8,8),dtype=int)\n",
    "arr[::2,::4]=1\n",
    "arr[::2,1::4]=1\n",
    "\n",
    "arr[1::2,3::4]=1\n",
    "arr[1::2,2::4]=1\n",
    "print(\"Checkboard pattern:\\n\")\n",
    "print(arr)"
   ]
  },
  {
   "cell_type": "code",
   "execution_count": 45,
   "id": "e0111019",
   "metadata": {},
   "outputs": [
    {
     "name": "stdout",
     "output_type": "stream",
     "text": [
      "Checkboard pattern:\n",
      "\n",
      "[[0 0 0 0 1 1 1 1]\n",
      " [1 1 1 1 0 0 0 0]\n",
      " [0 0 0 0 1 1 1 1]\n",
      " [1 1 1 1 0 0 0 0]\n",
      " [0 0 0 0 1 1 1 1]\n",
      " [1 1 1 1 0 0 0 0]\n",
      " [0 0 0 0 1 1 1 1]\n",
      " [1 1 1 1 0 0 0 0]]\n"
     ]
    }
   ],
   "source": [
    "#pattern 2\n",
    "\n",
    "import numpy as np\n",
    "\n",
    "arr=np.zeros((8,8),dtype=int)\n",
    "arr[::2,4::]=1\n",
    "arr[1::2,:4:]=1\n",
    "\n",
    "print(\"Checkboard pattern:\\n\")\n",
    "print(arr)"
   ]
  },
  {
   "cell_type": "code",
   "execution_count": 49,
   "id": "5e3fb418",
   "metadata": {},
   "outputs": [
    {
     "name": "stdout",
     "output_type": "stream",
     "text": [
      "Array is:\n",
      " [[11 12]\n",
      " [13 14]\n",
      " [15 16]\n",
      " [17 18]\n",
      " [19 20]]\n",
      "\n",
      "1st column:  [11 13 15 17 19]\n",
      "2nd column:  [12 14 16 18 20]\n"
     ]
    }
   ],
   "source": [
    "#q11\n",
    "\n",
    "import numpy as np\n",
    "\n",
    "arr=np.arange(11,21).reshape(5,2)\n",
    "print(\"Array is:\\n\",arr)\n",
    "print(\"\\n1st column: \",arr[:,0])\n",
    "print(\"2nd column: \",arr[:,1])\n"
   ]
  },
  {
   "cell_type": "code",
   "execution_count": 57,
   "id": "7a5ecf31",
   "metadata": {},
   "outputs": [
    {
     "name": "stdout",
     "output_type": "stream",
     "text": [
      "Array 1\n",
      " [[1 2 3]\n",
      " [4 5 6]\n",
      " [7 8 9]]\n",
      "Array 2\n",
      " [[11 12 13]\n",
      " [14 15 16]\n",
      " [17 18 19]]\n",
      "\n",
      "Multiplied matrix:\n",
      " [[ 90  96 102]\n",
      " [216 231 246]\n",
      " [342 366 390]]\n",
      "Added matrix:\n",
      " [[12 14 16]\n",
      " [18 20 22]\n",
      " [24 26 28]]\n"
     ]
    }
   ],
   "source": [
    "#q12\n",
    "\n",
    "import numpy as np\n",
    "\n",
    "m1=np.arange(1,10).reshape(3,3)\n",
    "m2=np.arange(11,20).reshape(3,3)\n",
    "print(\"Array 1\\n\",m1)\n",
    "print(\"Array 2\\n\",m2)\n",
    "\n",
    "print(\"\\nMultiplied matrix:\\n\",np.dot(m1,m2))\n",
    "print(\"Added matrix:\\n\",np.add(m1,m2))"
   ]
  },
  {
   "cell_type": "code",
   "execution_count": 27,
   "id": "93e803cd",
   "metadata": {},
   "outputs": [
    {
     "name": "stdout",
     "output_type": "stream",
     "text": [
      "Array is:\n",
      " [[3 1]\n",
      " [2 2]]\n",
      "\n",
      "Eigen values:  [4. 1.]\n",
      "Eigen vectors:\n",
      " [[ 0.70710678 -0.4472136 ]\n",
      " [ 0.70710678  0.89442719]]\n"
     ]
    }
   ],
   "source": [
    "#q13\n",
    "\n",
    "import numpy as np\n",
    "\n",
    "arr=np.array([[3,1],[2,2]])\n",
    "print(\"Array is:\\n\",arr)\n",
    "\n",
    "w,v=np.linalg.eig(arr)\n",
    "print(\"\\nEigen values: \",w)\n",
    "print(\"Eigen vectors:\\n\",v)"
   ]
  },
  {
   "cell_type": "code",
   "execution_count": 56,
   "id": "11b25607",
   "metadata": {},
   "outputs": [
    {
     "name": "stdout",
     "output_type": "stream",
     "text": [
      "Original matrix:\n",
      " [[2 3]\n",
      " [4 5]]\n",
      "\n",
      "Determinant: -2.0\n",
      "Transpose:\n",
      " [[2 4]\n",
      " [3 5]]\n",
      "Inverse:\n",
      " [[-2.5  1.5]\n",
      " [ 2.  -1. ]]\n"
     ]
    }
   ],
   "source": [
    "#q14\n",
    "\n",
    "import numpy as np\n",
    "\n",
    "arr=np.array([[2,3],[4,5]])\n",
    "print(\"Original matrix:\\n\",arr)\n",
    "\n",
    "print(\"\\nDeterminant:\",np.linalg.det(arr))\n",
    "print(\"Transpose:\\n\",np.transpose(arr))\n",
    "print(\"Inverse:\\n\",np.linalg.inv(arr))"
   ]
  },
  {
   "cell_type": "code",
   "execution_count": 35,
   "id": "068daed6",
   "metadata": {},
   "outputs": [
    {
     "name": "stdout",
     "output_type": "stream",
     "text": [
      "[[1.+0.j 2.+5.j]]\n",
      "[[1. 2.]]\n",
      "[[0. 5.]]\n",
      "\n",
      " [[1.+0.j 2.+0.j]\n",
      " [3.+0.j 4.+0.j]]\n"
     ]
    }
   ],
   "source": [
    "#complex nos\n",
    "\n",
    "import numpy as np\n",
    "z = np.array([[1+0.j,2+5.j]])\n",
    "print(z)\n",
    "print(z.real)\n",
    "print(z.imag)\n",
    "\n",
    "z=np.array([[1,2],[3,4]],dtype=complex)\n",
    "print(\"\\n\",z)"
   ]
  },
  {
   "cell_type": "code",
   "execution_count": 48,
   "id": "99352a63",
   "metadata": {},
   "outputs": [],
   "source": [
    "#file1\n",
    "\n",
    "import numpy as np\n",
    "arr = np.arange(1,10)\n",
    "data = np.array( [[10,20,30], [40,50,60], [70,80,90]] )\n",
    "np.savetxt('file1.txt',arr,delimiter=\",\")\n",
    "np.savetxt('file1.csv',arr,delimiter=\",\")\n",
    "np.savetxt('file2.txt',data,delimiter=\",\")\n",
    "np.savetxt('file2.csv',data,delimiter=\",\")"
   ]
  },
  {
   "cell_type": "code",
   "execution_count": 46,
   "id": "dc6af52c",
   "metadata": {},
   "outputs": [
    {
     "data": {
      "text/plain": [
       "array([1, 2, 3, 4, 5, 6, 7, 8, 9], dtype=int32)"
      ]
     },
     "execution_count": 46,
     "metadata": {},
     "output_type": "execute_result"
    }
   ],
   "source": [
    "#file2\n",
    "\n",
    "import numpy as np\n",
    "np.loadtxt(open(\"file1.csv\",\"rb\"),delimiter=\",\",dtype=np.int32)"
   ]
  }
 ],
 "metadata": {
  "kernelspec": {
   "display_name": "Python 3 (ipykernel)",
   "language": "python",
   "name": "python3"
  },
  "language_info": {
   "codemirror_mode": {
    "name": "ipython",
    "version": 3
   },
   "file_extension": ".py",
   "mimetype": "text/x-python",
   "name": "python",
   "nbconvert_exporter": "python",
   "pygments_lexer": "ipython3",
   "version": "3.9.12"
  }
 },
 "nbformat": 4,
 "nbformat_minor": 5
}
